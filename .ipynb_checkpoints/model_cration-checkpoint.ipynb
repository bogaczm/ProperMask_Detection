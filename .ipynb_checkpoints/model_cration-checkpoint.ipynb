{
 "cells": [
  {
   "cell_type": "markdown",
   "metadata": {},
   "source": [
    "### Model creation notebook\n",
    " In this notebook I will perform model transferlearning and model preparation."
   ]
  },
  {
   "cell_type": "code",
   "execution_count": 8,
   "metadata": {},
   "outputs": [],
   "source": [
    "# Creating paths to the varios often used directories\n",
    "import os\n",
    "CURRENT_PATH = os.getcwd()\n",
    "\n",
    "# directories set as in https://tensorflow-object-detection-api-tutorial.readthedocs.io/en/latest/install.html\n",
    "IMAGES_TRAIN = CURRENT_PATH + '/Tensorflow/workspace/images/train'\n",
    "IMAGES_TEST = CURRENT_PATH + '/Tensorflow/workspace/images/test'\n",
    "MODELS_PATH = CURRENT_PATH + '/Tensorflow/workspace/models'\n",
    "PIPELINE_PATH = CURRENT_PATH + MODELS_PATH + '/config/pipeline.config'\n",
    "LABEL_MAP_PATH = CURRENT_PATH + '/Tensorflow/workspace/annot/label_map.pbtxt'\n",
    "ANNOT_PATH = CURRENT_PATH + '/Tensorflow/workspace/annot'"
   ]
  },
  {
   "cell_type": "markdown",
   "metadata": {},
   "source": [
    "### XML labels files\n",
    "Tensor flow requires labelmap file"
   ]
  },
  {
   "cell_type": "code",
   "execution_count": 9,
   "metadata": {},
   "outputs": [
    {
     "name": "stdout",
     "output_type": "stream",
     "text": [
      "[{'name': 'CorrectMask', 'id': 0}, {'name': 'NoMask', 'id': 1}, {'name': 'WrongMask', 'id': 0}]\n"
     ]
    }
   ],
   "source": [
    "labels = [{'name':'CorrectMask', 'id':0}, {'name':'NoMask', 'id':1}, {'name':'WrongMask', 'id':0}]\n",
    "print(labels)"
   ]
  },
  {
   "cell_type": "code",
   "execution_count": 10,
   "metadata": {},
   "outputs": [],
   "source": [
    "# label map creation \n",
    "with open(LABEL_MAP_PATH, 'w') as map_file:\n",
    "    for label in labels:\n",
    "        map_file.write('item{\\n')\n",
    "        map_file.write('\\tname:\\'{}\\'\\n'.format(label['name']))\n",
    "        map_file.write('\\tid:{}\\n'.format(label['id']))\n",
    "        map_file.write('}\\n\\n')"
   ]
  },
  {
   "cell_type": "code",
   "execution_count": null,
   "metadata": {},
   "outputs": [],
   "source": []
  }
 ],
 "metadata": {
  "kernelspec": {
   "display_name": "Python 3",
   "language": "python",
   "name": "python3"
  },
  "language_info": {
   "codemirror_mode": {
    "name": "ipython",
    "version": 3
   },
   "file_extension": ".py",
   "mimetype": "text/x-python",
   "name": "python",
   "nbconvert_exporter": "python",
   "pygments_lexer": "ipython3",
   "version": "3.8.3"
  }
 },
 "nbformat": 4,
 "nbformat_minor": 4
}
